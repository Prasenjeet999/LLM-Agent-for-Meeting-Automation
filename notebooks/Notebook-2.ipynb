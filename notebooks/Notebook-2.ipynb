{
 "cells": [
  {
   "cell_type": "markdown",
   "metadata": {},
   "source": [
    "## Chains in LangChain"
   ]
  },
  {
   "cell_type": "code",
   "execution_count": null,
   "metadata": {},
   "outputs": [],
   "source": [
    "from langchain.chains import SimpleSequentialChain, LLMChain\n",
    "from langchain.prompts import PromptTemplate\n",
    "from langchain.llms import OpenAI"
   ]
  },
  {
   "cell_type": "code",
   "execution_count": 2,
   "metadata": {},
   "outputs": [
    {
     "name": "stderr",
     "output_type": "stream",
     "text": [
      "/var/folders/s0/r2n9ckp945q8rdtq0rldhjfw0000gn/T/ipykernel_4900/3495653245.py:3: LangChainDeprecationWarning: The class `OpenAI` was deprecated in LangChain 0.0.10 and will be removed in 1.0. An updated version of the class exists in the langchain-openai package and should be used instead. To use it run `pip install -U langchain-openai` and import as `from langchain_openai import OpenAI`.\n",
      "  OpenAI_LLM = OpenAI(temperature=0.6,api_key=os.environ[\"OPENAI_API_KEY\"])\n"
     ]
    }
   ],
   "source": [
    "import os\n",
    "from langchain.llms import OpenAI\n",
    "OpenAI_LLM = OpenAI(temperature=0.6,api_key=os.environ[\"OPENAI_API_KEY\"])"
   ]
  },
  {
   "cell_type": "code",
   "execution_count": 4,
   "metadata": {},
   "outputs": [
    {
     "name": "stdout",
     "output_type": "stream",
     "text": [
      "\n",
      "\n",
      "Hello! I am always working as an AI, ready to assist you with any tasks or questions you may have. How can I help you today?\n"
     ]
    }
   ],
   "source": [
    "bot = OpenAI_LLM(\"Say hello if you are working!\")\n",
    "print(bot)"
   ]
  },
  {
   "cell_type": "code",
   "execution_count": 5,
   "metadata": {},
   "outputs": [],
   "source": [
    "from langchain.prompts import PromptTemplate\n",
    "# Create first chain\n",
    "prompt_1 = PromptTemplate.from_template(\n",
    "    \"Give me a {cuisine} restaurant name. Only return name\"\n",
    ")"
   ]
  },
  {
   "cell_type": "code",
   "execution_count": 7,
   "metadata": {},
   "outputs": [
    {
     "data": {
      "text/plain": [
       "'\\n\\nTandoori Palace'"
      ]
     },
     "execution_count": 7,
     "metadata": {},
     "output_type": "execute_result"
    }
   ],
   "source": [
    "from langchain.chains import LLMChain\n",
    "first_chain = LLMChain(llm=OpenAI_LLM,prompt=prompt_1)\n",
    "# To run this chain use below code\n",
    "# first_chain.run(\"Indian\") // Passing cuisine parameter\n",
    "\n",
    "first_chain.run(\"Indian\")"
   ]
  },
  {
   "cell_type": "code",
   "execution_count": 8,
   "metadata": {},
   "outputs": [],
   "source": [
    "# Create second chain\n",
    "prompt_2 = PromptTemplate.from_template(\n",
    "    \"Give me 10 dish names for restaurant {restaurant}\"\n",
    ")\n",
    "second_chain = LLMChain(llm=OpenAI_LLM,prompt=prompt_2)"
   ]
  },
  {
   "cell_type": "code",
   "execution_count": 17,
   "metadata": {},
   "outputs": [
    {
     "name": "stdout",
     "output_type": "stream",
     "text": [
      "\n",
      "1. Butter Chicken Masala\n",
      "2. Tandoori Chicken\n",
      "3. Palak Paneer\n",
      "4. Lamb Rogan Josh\n",
      "5. Vegetable Biryani\n",
      "6. Chicken Tikka Masala\n",
      "7. Aloo Gobi\n",
      "8. Chana Masala\n",
      "9. Dal Makhani\n",
      "10. Samosas (appetizer)\n"
     ]
    }
   ],
   "source": [
    "final_chain = SimpleSequentialChain(chains=[first_chain,second_chain])\n",
    "response = final_chain.run(\"Indian\")\n",
    "print(response)"
   ]
  },
  {
   "cell_type": "markdown",
   "metadata": {},
   "source": [
    "### SequentialChain"
   ]
  },
  {
   "cell_type": "code",
   "execution_count": 22,
   "metadata": {},
   "outputs": [],
   "source": [
    "# Create first chain\n",
    "prompt_1 = PromptTemplate.from_template(\n",
    "    \"Give me a {cuisine} restaurant name. Only return name\"\n",
    ")\n",
    "# here we will specify output_key which will be used in next chain as an input\n",
    "first_chain = LLMChain(llm=OpenAI_LLM,prompt=prompt_1,output_key=\"restaurant_name\")\n",
    "# Create second chain\n",
    "prompt_2 = PromptTemplate.from_template(\n",
    "    \"Give me 10 dish names for restaurant {restaurant_name}\"\n",
    ")\n",
    "second_chain = LLMChain(llm=OpenAI_LLM,prompt=prompt_2,output_key=\"dishes\")"
   ]
  },
  {
   "cell_type": "code",
   "execution_count": 31,
   "metadata": {},
   "outputs": [
    {
     "data": {
      "text/plain": [
       "{'cuisine': 'Indian',\n",
       " 'restaurant_name': '\\n\\n\\nSpice Junction',\n",
       " 'dishes': '\\n1. Chicken Tikka Masala\\n2. Vegetable Biryani\\n3. Lamb Vindaloo\\n4. Tandoori Chicken\\n5. Palak Paneer\\n6. Butter Chicken\\n7. Samosa Chaat\\n8. Aloo Gobi\\n9. Malai Kofta\\n10. Mango Lassi Cheesecake'}"
      ]
     },
     "execution_count": 31,
     "metadata": {},
     "output_type": "execute_result"
    }
   ],
   "source": [
    "from langchain.chains import SequentialChain\n",
    "# Combining both chains into sequential chain\n",
    "final_sequencial_chain = SequentialChain(\n",
    "    input_variables=[\"cuisine\"],\n",
    "    # we want c and result both in output \n",
    "    output_variables=[\"restaurant_name\",\"dishes\"],\n",
    "    chains=[first_chain,second_chain]\n",
    ")\n",
    "# In sequencial chain, we can have multiple inputs so use tuple here for parameters.\n",
    "final_sequencial_chain({\"cuisine\":\"Indian\"})"
   ]
  },
  {
   "cell_type": "code",
   "execution_count": null,
   "metadata": {},
   "outputs": [],
   "source": []
  }
 ],
 "metadata": {
  "kernelspec": {
   "display_name": "Python 3",
   "language": "python",
   "name": "python3"
  },
  "language_info": {
   "codemirror_mode": {
    "name": "ipython",
    "version": 3
   },
   "file_extension": ".py",
   "mimetype": "text/x-python",
   "name": "python",
   "nbconvert_exporter": "python",
   "pygments_lexer": "ipython3",
   "version": "3.9.6"
  }
 },
 "nbformat": 4,
 "nbformat_minor": 2
}
